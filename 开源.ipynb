{
 "cells": [
  {
   "cell_type": "markdown",
   "id": "4de59bb6-48fd-4136-9e21-12055d41c294",
   "metadata": {},
   "source": [
    " ### 比赛思路：分别采用两种数据处理做融合， 第一种：基于baseline处理逻辑，其中每日各个时刻的数据是打乱的；第二种：保持每日内各个时刻数据是连续的，并且保证同一日的数据不会同时存在训练集和验证集中。"
   ]
  },
  {
   "cell_type": "code",
   "execution_count": 36,
   "id": "d8fce559-aa4d-4088-85d0-1f98d608297e",
   "metadata": {},
   "outputs": [],
   "source": [
    "from pathlib import Path\n",
    "import itertools\n",
    "\n",
    "import pandas as pd\n",
    "import numpy as np\n",
    "from tqdm import tqdm\n",
    "import lightgbm as lgb\n",
    "import xgboost as xgb\n",
    "import warnings\n",
    "import seaborn as sns\n",
    "from sklearn.model_selection import KFold\n",
    "from sklearn.decomposition import PCA\n",
    "from sklearn.metrics import mean_absolute_error\n",
    "\n",
    "import matplotlib.pyplot as plt\n",
    "\n",
    "\n",
    "warnings.filterwarnings('ignore')\n",
    "\n",
    "# pandas options\n",
    "PD_MAX_ROWS = 100\n",
    "PD_MAX_COLUMNS = 500\n",
    "PD_WIDTH = 500\n",
    "PD_MAX_COL_WIDTH = 500\n",
    "pd.set_option('display.max_rows', PD_MAX_ROWS)\n",
    "pd.set_option('display.max_columns', PD_MAX_COLUMNS)\n",
    "pd.set_option('display.width', PD_WIDTH)\n",
    "pd.set_option('display.max_colwidth', PD_MAX_COL_WIDTH)\n",
    "\n",
    "# seaborn settings constants\n",
    "# SNS_STYLE = 'darkgrid'\n",
    "SNS_FIG_SIZE = (10, 6)\n",
    "#sns.set_style(SNS_STYLE)\n",
    "sns.set({\"figure.figsize\": SNS_FIG_SIZE})\n",
    "#color_pal = sns.color_palette()\n",
    "\n",
    "#plt.style.use('fivethirtyeight')"
   ]
  },
  {
   "cell_type": "markdown",
   "id": "53f3ca2d-9a9a-4aa2-a2c8-c79d9053ed36",
   "metadata": {},
   "source": [
    "## 1. EDA"
   ]
  },
  {
   "cell_type": "code",
   "execution_count": 27,
   "id": "bf222d1c-c3ec-4702-9c02-8e13d9630900",
   "metadata": {},
   "outputs": [],
   "source": [
    "train_df = pd.read_csv('train.csv')\n",
    "test_df = pd.read_csv('preliminary_A.csv')"
   ]
  },
  {
   "cell_type": "code",
   "execution_count": 28,
   "id": "3dc8e20d-de51-46d1-890f-5bea4633094d",
   "metadata": {},
   "outputs": [
    {
     "data": {
      "text/html": [
       "<div>\n",
       "<style scoped>\n",
       "    .dataframe tbody tr th:only-of-type {\n",
       "        vertical-align: middle;\n",
       "    }\n",
       "\n",
       "    .dataframe tbody tr th {\n",
       "        vertical-align: top;\n",
       "    }\n",
       "\n",
       "    .dataframe thead th {\n",
       "        text-align: right;\n",
       "    }\n",
       "</style>\n",
       "<table border=\"1\" class=\"dataframe\">\n",
       "  <thead>\n",
       "    <tr style=\"text-align: right;\">\n",
       "      <th></th>\n",
       "      <th>month</th>\n",
       "      <th>is_weekend</th>\n",
       "      <th>L1</th>\n",
       "      <th>L2</th>\n",
       "      <th>L3</th>\n",
       "      <th>L4</th>\n",
       "      <th>L5</th>\n",
       "      <th>L6</th>\n",
       "      <th>y</th>\n",
       "    </tr>\n",
       "  </thead>\n",
       "  <tbody>\n",
       "    <tr>\n",
       "      <th>count</th>\n",
       "      <td>38400.000000</td>\n",
       "      <td>38400.000000</td>\n",
       "      <td>38400.000000</td>\n",
       "      <td>38400.000000</td>\n",
       "      <td>38400.000000</td>\n",
       "      <td>38400.000000</td>\n",
       "      <td>38400.000000</td>\n",
       "      <td>38400.000000</td>\n",
       "      <td>38400.000000</td>\n",
       "    </tr>\n",
       "    <tr>\n",
       "      <th>mean</th>\n",
       "      <td>6.572500</td>\n",
       "      <td>0.266250</td>\n",
       "      <td>21.769053</td>\n",
       "      <td>23.429187</td>\n",
       "      <td>-0.170735</td>\n",
       "      <td>5.213793</td>\n",
       "      <td>4.443845</td>\n",
       "      <td>-0.623873</td>\n",
       "      <td>19.805241</td>\n",
       "    </tr>\n",
       "    <tr>\n",
       "      <th>std</th>\n",
       "      <td>3.488203</td>\n",
       "      <td>0.442002</td>\n",
       "      <td>17.092855</td>\n",
       "      <td>22.083805</td>\n",
       "      <td>5.470104</td>\n",
       "      <td>5.406456</td>\n",
       "      <td>4.934397</td>\n",
       "      <td>4.493714</td>\n",
       "      <td>12.141615</td>\n",
       "    </tr>\n",
       "    <tr>\n",
       "      <th>min</th>\n",
       "      <td>1.000000</td>\n",
       "      <td>0.000000</td>\n",
       "      <td>-21.835400</td>\n",
       "      <td>-24.661300</td>\n",
       "      <td>-13.933500</td>\n",
       "      <td>-9.884400</td>\n",
       "      <td>-6.607400</td>\n",
       "      <td>-31.462000</td>\n",
       "      <td>-4.150000</td>\n",
       "    </tr>\n",
       "    <tr>\n",
       "      <th>25%</th>\n",
       "      <td>3.000000</td>\n",
       "      <td>0.000000</td>\n",
       "      <td>8.640500</td>\n",
       "      <td>5.916600</td>\n",
       "      <td>-3.619825</td>\n",
       "      <td>0.938200</td>\n",
       "      <td>0.604100</td>\n",
       "      <td>-1.126700</td>\n",
       "      <td>10.270600</td>\n",
       "    </tr>\n",
       "    <tr>\n",
       "      <th>50%</th>\n",
       "      <td>7.000000</td>\n",
       "      <td>0.000000</td>\n",
       "      <td>16.075400</td>\n",
       "      <td>12.473250</td>\n",
       "      <td>2.360600</td>\n",
       "      <td>3.550400</td>\n",
       "      <td>2.613600</td>\n",
       "      <td>0.533200</td>\n",
       "      <td>17.275400</td>\n",
       "    </tr>\n",
       "    <tr>\n",
       "      <th>75%</th>\n",
       "      <td>10.000000</td>\n",
       "      <td>1.000000</td>\n",
       "      <td>36.564700</td>\n",
       "      <td>41.056650</td>\n",
       "      <td>3.294400</td>\n",
       "      <td>8.963100</td>\n",
       "      <td>9.100900</td>\n",
       "      <td>1.081600</td>\n",
       "      <td>28.842825</td>\n",
       "    </tr>\n",
       "    <tr>\n",
       "      <th>max</th>\n",
       "      <td>12.000000</td>\n",
       "      <td>1.000000</td>\n",
       "      <td>103.914500</td>\n",
       "      <td>90.362200</td>\n",
       "      <td>16.951700</td>\n",
       "      <td>31.999600</td>\n",
       "      <td>25.706600</td>\n",
       "      <td>2.932100</td>\n",
       "      <td>58.327600</td>\n",
       "    </tr>\n",
       "  </tbody>\n",
       "</table>\n",
       "</div>"
      ],
      "text/plain": [
       "              month    is_weekend            L1            L2            L3            L4            L5            L6             y\n",
       "count  38400.000000  38400.000000  38400.000000  38400.000000  38400.000000  38400.000000  38400.000000  38400.000000  38400.000000\n",
       "mean       6.572500      0.266250     21.769053     23.429187     -0.170735      5.213793      4.443845     -0.623873     19.805241\n",
       "std        3.488203      0.442002     17.092855     22.083805      5.470104      5.406456      4.934397      4.493714     12.141615\n",
       "min        1.000000      0.000000    -21.835400    -24.661300    -13.933500     -9.884400     -6.607400    -31.462000     -4.150000\n",
       "25%        3.000000      0.000000      8.640500      5.916600     -3.619825      0.938200      0.604100     -1.126700     10.270600\n",
       "50%        7.000000      0.000000     16.075400     12.473250      2.360600      3.550400      2.613600      0.533200     17.275400\n",
       "75%       10.000000      1.000000     36.564700     41.056650      3.294400      8.963100      9.100900      1.081600     28.842825\n",
       "max       12.000000      1.000000    103.914500     90.362200     16.951700     31.999600     25.706600      2.932100     58.327600"
      ]
     },
     "execution_count": 28,
     "metadata": {},
     "output_type": "execute_result"
    }
   ],
   "source": [
    "train_df.describe()"
   ]
  },
  {
   "cell_type": "code",
   "execution_count": 29,
   "id": "0ee75908-9c6f-42d9-af78-228f0c436339",
   "metadata": {},
   "outputs": [
    {
     "data": {
      "text/plain": [
       "<AxesSubplot:>"
      ]
     },
     "execution_count": 29,
     "metadata": {},
     "output_type": "execute_result"
    },
    {
     "data": {
      "image/png": "[encoded data removed]",
      "text/plain": [
       "<Figure size 576x576 with 2 Axes>"
      ]
     },
     "metadata": {},
     "output_type": "display_data"
    }
   ],
   "source": [
    "# 设置大小\n",
    "plt.subplots(figsize=(8, 8))\n",
    "# 热力图\n",
    "# annot=True 显示数值\n",
    "# round(2) 小数点2位\n",
    "sns.heatmap(train_df.corr().round(2),annot=True)"
   ]
  },
  {
   "cell_type": "code",
   "execution_count": 32,
   "id": "62173999-e380-4bff-987b-2a61f0444e0a",
   "metadata": {},
   "outputs": [
    {
     "data": {
      "text/plain": [
       "<AxesSubplot:xlabel='month', ylabel='y'>"
      ]
     },
     "execution_count": 32,
     "metadata": {},
     "output_type": "execute_result"
    },
    {
     "data": {
      "image/png": "[encoded data removed]",
      "text/plain": [
       "<Figure size 720x432 with 1 Axes>"
      ]
     },
     "metadata": {},
     "output_type": "display_data"
    }
   ],
   "source": [
    "sns.boxplot(y=train_df['y'],x=train_df['month'])"
   ]
  },
  {
   "cell_type": "code",
   "execution_count": 38,
   "id": "b34b8c5c-bbf8-4834-8ffb-2b558177b479",
   "metadata": {},
   "outputs": [
    {
     "data": {
      "text/plain": [
       "<AxesSubplot:xlabel='time', ylabel='y'>"
      ]
     },
     "execution_count": 38,
     "metadata": {},
     "output_type": "execute_result"
    },
    {
     "data": {
      "image/png": "[encoded data removed]",
      "text/plain": [
       "<Figure size 2160x432 with 1 Axes>"
      ]
     },
     "metadata": {},
     "output_type": "display_data"
    }
   ],
   "source": [
    "\n",
    "SNS_FIG_SIZE = (30, 6)\n",
    "#sns.set_style(SNS_STYLE)\n",
    "sns.set({\"figure.figsize\": SNS_FIG_SIZE})\n",
    "sns.boxplot(y=train_df['y'],x=train_df['time'])"
   ]
  },
  {
   "cell_type": "markdown",
   "id": "1957c8b0-090f-49f1-a1b6-d846f03b3d75",
   "metadata": {},
   "source": [
    " ## 数据分析：可以看到label y和L1-L6特征相关度还是比较高的，同时也能看出y和month、time等时间特征关联性比较强，由于date_id是不连续的，没法采用时间序列的处理方式。但是加入从时间信息、L1-L6衍生的特征后，分数几乎没有变化。"
   ]
  },
  {
   "cell_type": "code",
   "execution_count": null,
   "id": "b41cfcbe-47fe-4144-862d-41b5ca27ccb4",
   "metadata": {},
   "outputs": [],
   "source": []
  },
  {
   "cell_type": "markdown",
   "id": "805b2a29-4dac-4ee9-8ae5-9adb78c6f011",
   "metadata": {},
   "source": [
    "## 2.方案融合： 第一种数据处理方式，代码主体参考baseline，不过在A榜提交测试过程中发现，删去baseline中生成的数据特征会有一定的分数提升。"
   ]
  },
  {
   "cell_type": "code",
   "execution_count": 42,
   "id": "c97ea5cb-9987-4024-9b0d-cccf31d7b9df",
   "metadata": {},
   "outputs": [],
   "source": [
    "# 构建小时 季节 滞后 滑动特征\n",
    "def time_span(t):\n",
    "    if t >= 0 and t < 5:\n",
    "        return 0\n",
    "    elif t >= 5 and t < 8:\n",
    "        return 1\n",
    "    elif t >= 8 and t < 11:\n",
    "        return 2\n",
    "    elif t >= 11 and t < 13:\n",
    "        return 3\n",
    "    elif t >= 13 and t < 16:\n",
    "        return 4\n",
    "    elif t >= 16 and t < 19:\n",
    "        return 5\n",
    "    elif t >= 19 and t < 24:\n",
    "        return 6\n",
    "\n",
    "\n",
    "def get_season_from_month(month):\n",
    "    if 1 <= month < 4:\n",
    "        r = 1\n",
    "    elif 4 <= month < 7:\n",
    "        r = 2\n",
    "    elif 7 <= month < 10:\n",
    "        r = 3\n",
    "    else:\n",
    "        r = 4\n",
    "    return r\n",
    "\n",
    "def get_lat_feature(df):\n",
    "    tmp_res = pd.DataFrame()\n",
    "    for i, data in df.groupby(['date_id', 'transformers']):\n",
    "        tmp1 = data['L1'].shift()\n",
    "        tmp2 = data['L2'].shift()\n",
    "        tmp3 = data['L3'].shift()\n",
    "        tmp4 = data['L4'].shift()\n",
    "        tmp5 = data['L5'].shift()\n",
    "        tmp6 = data['L6'].shift()\n",
    "\n",
    "        tmp = pd.concat([tmp1, tmp2, tmp3, tmp4, tmp5, tmp6], axis=1)\n",
    "        tmp.columns = ['last_time_l1', 'last_time_l2', 'last_time_l3', 'last_time_l4', 'last_time_l5', 'last_time_l6']\n",
    "        tmp_res = pd.concat([tmp_res, tmp])\n",
    "\n",
    "    df = pd.concat([df, tmp_res], axis=1)\n",
    "\n",
    "    cols = ['last_time_l1', 'last_time_l2', 'last_time_l3', 'last_time_l4', 'last_time_l5', 'last_time_l6']\n",
    "\n",
    "    for col in cols:\n",
    "        df[col] = df[col].fillna(method='bfill')\n",
    "\n",
    "    return df\n",
    "\n",
    "\n",
    "def get_rolling_feature(df):\n",
    "    tmp_res = pd.DataFrame()\n",
    "    for i, data in df.groupby(['date_id', 'transformers']):\n",
    "        tmp1 = data['L1'].rolling(35, min_periods=1).mean()\n",
    "        tmp2 = data['L2'].rolling(35, min_periods=1).mean()\n",
    "        tmp3 = data['L3'].rolling(35, min_periods=1).mean()\n",
    "        tmp4 = data['L4'].rolling(35, min_periods=1).mean()\n",
    "        tmp5 = data['L5'].rolling(35, min_periods=1).mean()\n",
    "        tmp6 = data['L6'].rolling(35, min_periods=1).mean()\n",
    "\n",
    "        tmp = pd.concat([tmp1, tmp2, tmp3, tmp4, tmp5, tmp6], axis=1)\n",
    "        tmp.columns = ['roll_l1', 'roll_l2', 'roll_l3', 'roll_l4', 'roll_l5', 'roll_l6']\n",
    "        tmp_res = pd.concat([tmp_res, tmp])\n",
    "\n",
    "    df = pd.concat([df, tmp_res], axis=1)\n",
    "\n",
    "    return df\n"
   ]
  },
  {
   "cell_type": "code",
   "execution_count": 43,
   "id": "3c9817df-dfc1-438f-ad1e-b72b38e1adfe",
   "metadata": {},
   "outputs": [],
   "source": [
    "\n",
    "train_df['hour'] = train_df['time'].apply(lambda x: int(x.split(':')[0]))\n",
    "train_df['time_span'] = train_df['hour'].apply(time_span)\n",
    "\n",
    "test_df['hour'] = test_df['time'].apply(lambda x: int(x.split(':')[0]))\n",
    "test_df['time_span'] = test_df['hour'].apply(time_span)\n",
    "\n",
    "train_df['season'] = train_df['month'].apply(lambda x: get_season_from_month(x))\n",
    "test_df['season'] = test_df['month'].apply(lambda x: get_season_from_month(x))"
   ]
  },
  {
   "cell_type": "code",
   "execution_count": 44,
   "id": "f3b39a83-cd23-43f1-9e14-59fcc7b2646c",
   "metadata": {},
   "outputs": [
    {
     "name": "stdout",
     "output_type": "stream",
     "text": [
      "------------------ month ------------------\n",
      "------------------ time ------------------\n",
      "------------------ hour ------------------\n",
      "------------------ time_span ------------------\n",
      "------------------ season ------------------\n",
      "------------------ transformers_month ------------------\n",
      "------------------ transformers_time ------------------\n",
      "------------------ transformers_hour ------------------\n",
      "------------------ transformers_time_span ------------------\n",
      "------------------ transformers_season ------------------\n",
      "------------------ transformers_is_weekend_month ------------------\n",
      "------------------ transformers_is_weekend_time ------------------\n",
      "------------------ transformers_is_weekend_season ------------------\n",
      "------------------ transformers_is_weekend_hour ------------------\n",
      "------------------ transformers_is_weekend_time_span ------------------\n"
     ]
    }
   ],
   "source": [
    "# 构建不同时间与变压器油温的关系\n",
    "for f in [\n",
    "    ['month'], ['time'], ['hour'], ['time_span'], ['season'],\n",
    "    ['transformers', 'month'], ['transformers', 'time'], ['transformers', 'hour'], ['transformers', 'time_span'],['transformers', 'season'],\n",
    "    ['transformers', 'is_weekend', 'month'], ['transformers', 'is_weekend', 'time'],['transformers', 'is_weekend', 'season'],\n",
    "    ['transformers', 'is_weekend', 'hour'], ['transformers', 'is_weekend', 'time_span']\n",
    "]:\n",
    "    print('------------------ {} ------------------'.format('_'.join(f)))\n",
    "    folds = KFold(n_splits=5, shuffle=True, random_state=2023)\n",
    "\n",
    "    train_df['fold'] = None\n",
    "    for fold_, (trn_idx, val_idx) in enumerate(folds.split(train_df, train_df)):\n",
    "        train_df.loc[val_idx, 'fold'] = fold_\n",
    "\n",
    "    colname = '_'.join(f) + '_y_mean'\n",
    "\n",
    "    if len(f) == 1:\n",
    "        feat = f[0]\n",
    "    elif len(f) == 2:\n",
    "        train_df['_'.join(f)] = train_df[f[0]].astype(str) + '_' + train_df[f[1]].astype(str)\n",
    "        test_df['_'.join(f)] = test_df[f[0]].astype(str) + '_' + test_df[f[1]].astype(str)\n",
    "        feat = '_'.join(f)\n",
    "    elif len(f) == 3:\n",
    "        train_df['_'.join(f)] = train_df[f[0]].astype(str) + '_' + train_df[f[1]].astype(str) + '_' + train_df[\n",
    "            f[2]].astype(str)\n",
    "        test_df['_'.join(f)] = test_df[f[0]].astype(str) + '_' + test_df[f[1]].astype(str) + '_' + test_df[f[2]].astype(\n",
    "            str)\n",
    "        feat = '_'.join(f)\n",
    "\n",
    "    # train\n",
    "    train_df[colname] = None\n",
    "    for fold_, (trn_idx, val_idx) in enumerate(folds.split(train_df, train_df)):\n",
    "        Log_trn = train_df.iloc[trn_idx]\n",
    "\n",
    "        order_label = Log_trn.groupby([feat])['y'].mean()\n",
    "        tmp_df = train_df.loc[train_df.fold == fold_, [feat]]\n",
    "        train_df.loc[train_df.fold == fold_, colname] = tmp_df[feat].map(order_label)\n",
    "\n",
    "    # test\n",
    "    test_df[colname] = None\n",
    "    order_label = train_df.groupby([feat])['y'].mean()\n",
    "    test_df[colname] = test_df[feat].map(order_label)\n",
    "\n",
    "    if len(f) != 1:\n",
    "        del train_df['_'.join(f)], test_df['_'.join(f)]\n"
   ]
  },
  {
   "cell_type": "code",
   "execution_count": 45,
   "id": "1421fb87-8a5f-4800-9515-d04315edc732",
   "metadata": {},
   "outputs": [],
   "source": [
    "# 自然数编码\n",
    "train_df['transformers'] = train_df['transformers'].map({'M1': 1, 'M2': 2})\n",
    "test_df['transformers'] = test_df['transformers'].map({'M1': 1, 'M2': 2})\n",
    "# 转换为了0-47的整数\n",
    "train_df['time'] = train_df['time'].apply(lambda x: int(x.split(':')[0]) * 2 + int(x.split(':')[1]) // 30)\n",
    "test_df['time'] = test_df['time'].apply(lambda x: int(x.split(':')[0]) * 2 + int(x.split(':')[1]) // 30)\n",
    "\n",
    "train_df = get_lat_feature(train_df)\n",
    "test_df = get_lat_feature(test_df)\n",
    "\n",
    "train_df = get_rolling_feature(train_df)\n",
    "test_df = get_rolling_feature(test_df)"
   ]
  },
  {
   "cell_type": "code",
   "execution_count": 46,
   "id": "7f5b4ca4-2199-444d-995a-4b2acb79c377",
   "metadata": {},
   "outputs": [],
   "source": [
    "# 划分 m1m2\n",
    "train_df_m1 = train_df[train_df['transformers'] == 1]\n",
    "test_df_m1 = test_df[test_df['transformers'] == 1]\n",
    "\n",
    "train_df_m2 = (train_df[train_df['transformers'] == 2]).reset_index()\n",
    "test_df_m2 = test_df[test_df['transformers'] == 2].reset_index()"
   ]
  },
  {
   "cell_type": "code",
   "execution_count": 47,
   "id": "9bafb8a7-279f-41a3-aee9-4133438e78e3",
   "metadata": {},
   "outputs": [],
   "source": [
    "# 入模特征列， 这里其实删除了baseline构建的特征\n",
    "cols = [f for f in train_df.columns if f not in ['id', 'date_id', 'y', 'fold',\n",
    "                                                 'transformers', 'time_y_mean', 'hour_y_mean',\n",
    "                                                 'time_span_y_mean','transformers_month_y_mean',\n",
    "                                                 'transformers_time_y_mean', 'transformers_hour_y_mean',\n",
    "                                                 'transformers_time_span_y_mean',\n",
    "                                                 'transformers_is_weekend_month_y_mean',\n",
    "                                                 'transformers_is_weekend_time_y_mean',\n",
    "                                                 'transformers_is_weekend_hour_y_mean',\n",
    "                                                 'transformers_is_weekend_time_span_y_mean',\n",
    "                                                 'month_y_mean', 'season_y_mean', 'season',\n",
    "                                                 'transformers_season_y_mean', 'transformers_is_weekend_season_y_mean',\n",
    "                                                 'time_span']]"
   ]
  },
  {
   "cell_type": "code",
   "execution_count": 48,
   "id": "1fd4dc1b-9ee7-4ae0-aa7d-47aa7f960b78",
   "metadata": {},
   "outputs": [],
   "source": [
    "# M1 M2各自训练LGB model\n",
    "def cv_model_m1(clf, train_x, train_y, test_x, seed=2023):\n",
    "    kf = KFold(n_splits=5, shuffle=True, random_state=seed)\n",
    "    pred = np.zeros(test_x.shape[0])\n",
    "    for i, (train_index, valid_index) in enumerate(kf.split(train_x, train_y)):\n",
    "        print('************************************ {} {}************************************'.format(str(i + 1),\n",
    "                                                                                                      str(seed)))\n",
    "        trn_x, trn_y, val_x, val_y = train_x.iloc[train_index], train_y[train_index], train_x.iloc[valid_index], \\\n",
    "                                     train_y[valid_index]\n",
    "\n",
    "\n",
    "        train_matrix = clf.Dataset(trn_x, label=trn_y)\n",
    "        valid_matrix = clf.Dataset(val_x, label=val_y)\n",
    "\n",
    "        params = {\n",
    "            'boosting_type': 'gbdt',\n",
    "            'objective': 'regression',\n",
    "            'metric': 'mae',\n",
    "            'num_leaves': 63,\n",
    "            'feature_fraction': 0.8,\n",
    "            'bagging_fraction': 0.8,\n",
    "            'learning_rate': 0.02,\n",
    "            'seed': seed,\n",
    "            'n_jobs': 16,\n",
    "            'verbose': -1,\n",
    "            'reg_lambda': 5,\n",
    "            'reg_alpha': 2,\n",
    "        }\n",
    "\n",
    "        model = clf.train(params, train_matrix, 15000, valid_sets=[train_matrix, valid_matrix],\n",
    "                          verbose_eval=500, early_stopping_rounds=500)\n",
    "\n",
    "\n",
    "        test_pred = model.predict(test_x, num_iteration=model.best_iteration)\n",
    "     \n",
    "        pred += test_pred / kf.n_splits\n",
    "        # 计算pred\n",
    "\n",
    "    return pred\n",
    "\n",
    "\n",
    "def cv_model_m2(clf, train_x, train_y, test_x, seed=2023):\n",
    "    kf = KFold(n_splits=5, shuffle=True, random_state=seed)\n",
    "\n",
    "    pred = np.zeros(test_x.shape[0])\n",
    "\n",
    "    for i, (train_index, valid_index) in enumerate(kf.split(train_x, train_y)):\n",
    "        print('************************************ {} {}************************************'.format(str(i + 1),\n",
    "                                                                                                      str(seed)))\n",
    "        trn_x, trn_y, val_x, val_y = train_x.iloc[train_index], train_y[train_index], train_x.iloc[valid_index], \\\n",
    "                                     train_y[valid_index]\n",
    "\n",
    "        train_matrix = clf.Dataset(trn_x, label=trn_y)\n",
    "        valid_matrix = clf.Dataset(val_x, label=val_y)\n",
    "\n",
    "        params = {\n",
    "            'boosting_type': 'gbdt',\n",
    "            'objective': 'regression',\n",
    "            'metric': 'mae',\n",
    "            'num_leaves': 63,\n",
    "            'feature_fraction': 0.8,\n",
    "            'bagging_fraction': 0.8,\n",
    "            'learning_rate': 0.02,\n",
    "            'seed': seed,\n",
    "            'n_jobs': 16,\n",
    "            'verbose': -1,\n",
    "            'reg_lambda': 5,\n",
    "            'reg_alpha': 2\n",
    "        }\n",
    "\n",
    "        model = clf.train(params, train_matrix, 15000, valid_sets=[train_matrix, valid_matrix],\n",
    "                          verbose_eval=500, early_stopping_rounds=500)\n",
    "        test_pred = model.predict(test_x, num_iteration=model.best_iteration)\n",
    "\n",
    "        pred += test_pred / kf.n_splits\n",
    "\n",
    "    return pred"
   ]
  },
  {
   "cell_type": "code",
   "execution_count": null,
   "id": "894bcdb5-b64b-4c5a-85ed-836557b6dd5d",
   "metadata": {},
   "outputs": [],
   "source": [
    "#  分模型\n",
    "print('**********************M1*******************************')\n",
    "lgb_pred_m1 = cv_model_m1(lgb, train_df_m1[cols].astype(float), train_df_m1['y'], test_df_m1[cols].astype(float))\n",
    "print('**********************M2*******************************')\n",
    "lgb_pred_m2 = cv_model_m2(lgb, train_df_m2[cols].astype(float), train_df_m2['y'], test_df_m2[cols].astype(float))\n",
    "\n",
    "\n",
    "# 提交结果，得到方法1的submit\n",
    "test_df['y'] = np.append(lgb_pred_m1, lgb_pred_m2)\n",
    "test_df[['id','y']].to_csv('submit.csv', index=False)"
   ]
  },
  {
   "cell_type": "markdown",
   "id": "27824c60-3a0e-4ec6-8241-ee96549fe5cd",
   "metadata": {},
   "source": [
    "## 方案融合： 第二种数据处理方式"
   ]
  },
  {
   "cell_type": "code",
   "execution_count": 2,
   "id": "e8bc51a1-f5ae-4ce7-b58a-6da58c1f9103",
   "metadata": {},
   "outputs": [],
   "source": [
    "train_df = pd.read_csv('train.csv')\n",
    "test_df = pd.read_csv('preliminary_A.csv')\n",
    "test_df2 = pd.read_csv(\"preliminary_B.csv\")\n",
    "test_df = pd.concat([test_df, test_df2])\n",
    "concat_df = pd.concat([train_df, test_df])"
   ]
  },
  {
   "cell_type": "code",
   "execution_count": 3,
   "id": "cf8103b0-98b5-4e99-a5c5-70e8c4b27c84",
   "metadata": {},
   "outputs": [
    {
     "data": {
      "text/html": [
       "<div>\n",
       "<style scoped>\n",
       "    .dataframe tbody tr th:only-of-type {\n",
       "        vertical-align: middle;\n",
       "    }\n",
       "\n",
       "    .dataframe tbody tr th {\n",
       "        vertical-align: top;\n",
       "    }\n",
       "\n",
       "    .dataframe thead th {\n",
       "        text-align: right;\n",
       "    }\n",
       "</style>\n",
       "<table border=\"1\" class=\"dataframe\">\n",
       "  <thead>\n",
       "    <tr style=\"text-align: right;\">\n",
       "      <th></th>\n",
       "      <th>id</th>\n",
       "      <th>transformers</th>\n",
       "      <th>date_id</th>\n",
       "      <th>month</th>\n",
       "      <th>is_weekend</th>\n",
       "      <th>time</th>\n",
       "      <th>L1</th>\n",
       "      <th>L2</th>\n",
       "      <th>L3</th>\n",
       "      <th>L4</th>\n",
       "      <th>L5</th>\n",
       "      <th>L6</th>\n",
       "      <th>y</th>\n",
       "    </tr>\n",
       "  </thead>\n",
       "  <tbody>\n",
       "    <tr>\n",
       "      <th>0</th>\n",
       "      <td>M1_D00003_00_00</td>\n",
       "      <td>M1</td>\n",
       "      <td>D00003</td>\n",
       "      <td>4</td>\n",
       "      <td>0</td>\n",
       "      <td>0:00</td>\n",
       "      <td>16.4772</td>\n",
       "      <td>11.6558</td>\n",
       "      <td>4.4320</td>\n",
       "      <td>6.4635</td>\n",
       "      <td>4.3713</td>\n",
       "      <td>1.1885</td>\n",
       "      <td>9.7434</td>\n",
       "    </tr>\n",
       "    <tr>\n",
       "      <th>1</th>\n",
       "      <td>M1_D00003_00_30</td>\n",
       "      <td>M1</td>\n",
       "      <td>D00003</td>\n",
       "      <td>4</td>\n",
       "      <td>0</td>\n",
       "      <td>0:30</td>\n",
       "      <td>16.2091</td>\n",
       "      <td>11.8867</td>\n",
       "      <td>4.4020</td>\n",
       "      <td>6.4640</td>\n",
       "      <td>4.6197</td>\n",
       "      <td>1.1879</td>\n",
       "      <td>9.9550</td>\n",
       "    </tr>\n",
       "    <tr>\n",
       "      <th>2</th>\n",
       "      <td>M1_D00003_01_00</td>\n",
       "      <td>M1</td>\n",
       "      <td>D00003</td>\n",
       "      <td>4</td>\n",
       "      <td>0</td>\n",
       "      <td>1:00</td>\n",
       "      <td>15.9085</td>\n",
       "      <td>11.5495</td>\n",
       "      <td>4.3407</td>\n",
       "      <td>6.5308</td>\n",
       "      <td>4.0870</td>\n",
       "      <td>1.1272</td>\n",
       "      <td>10.1302</td>\n",
       "    </tr>\n",
       "    <tr>\n",
       "      <th>3</th>\n",
       "      <td>M1_D00003_01_30</td>\n",
       "      <td>M1</td>\n",
       "      <td>D00003</td>\n",
       "      <td>4</td>\n",
       "      <td>0</td>\n",
       "      <td>1:30</td>\n",
       "      <td>15.7744</td>\n",
       "      <td>11.3179</td>\n",
       "      <td>4.2491</td>\n",
       "      <td>6.0959</td>\n",
       "      <td>4.1756</td>\n",
       "      <td>1.0818</td>\n",
       "      <td>10.5524</td>\n",
       "    </tr>\n",
       "    <tr>\n",
       "      <th>4</th>\n",
       "      <td>M1_D00003_02_00</td>\n",
       "      <td>M1</td>\n",
       "      <td>D00003</td>\n",
       "      <td>4</td>\n",
       "      <td>0</td>\n",
       "      <td>2:00</td>\n",
       "      <td>15.6739</td>\n",
       "      <td>11.4603</td>\n",
       "      <td>4.3714</td>\n",
       "      <td>6.6315</td>\n",
       "      <td>4.2463</td>\n",
       "      <td>1.1573</td>\n",
       "      <td>10.3770</td>\n",
       "    </tr>\n",
       "  </tbody>\n",
       "</table>\n",
       "</div>"
      ],
      "text/plain": [
       "                id transformers date_id  month  is_weekend  time       L1       L2      L3      L4      L5      L6        y\n",
       "0  M1_D00003_00_00           M1  D00003      4           0  0:00  16.4772  11.6558  4.4320  6.4635  4.3713  1.1885   9.7434\n",
       "1  M1_D00003_00_30           M1  D00003      4           0  0:30  16.2091  11.8867  4.4020  6.4640  4.6197  1.1879   9.9550\n",
       "2  M1_D00003_01_00           M1  D00003      4           0  1:00  15.9085  11.5495  4.3407  6.5308  4.0870  1.1272  10.1302\n",
       "3  M1_D00003_01_30           M1  D00003      4           0  1:30  15.7744  11.3179  4.2491  6.0959  4.1756  1.0818  10.5524\n",
       "4  M1_D00003_02_00           M1  D00003      4           0  2:00  15.6739  11.4603  4.3714  6.6315  4.2463  1.1573  10.3770"
      ]
     },
     "execution_count": 3,
     "metadata": {},
     "output_type": "execute_result"
    }
   ],
   "source": [
    "concat_df.head()"
   ]
  },
  {
   "cell_type": "code",
   "execution_count": 4,
   "id": "cc3f7126-3de6-4a36-8499-ec8f8038a0c2",
   "metadata": {},
   "outputs": [],
   "source": [
    "concat_df['time_id'] = concat_df['time'].apply(lambda x:int(x.split(':')[0])*2 + int(x.split(':')[1])//30)\n",
    "concat_df['season'] = concat_df['month'].apply(lambda x: x // 3)"
   ]
  },
  {
   "cell_type": "code",
   "execution_count": 5,
   "id": "cad045f4-a527-40df-8384-9defeef20641",
   "metadata": {},
   "outputs": [],
   "source": [
    "# 拿到L特征的前2个数据和后一个数据\n",
    "def find_lxb(row):\n",
    "    trans_id = row['transformers']\n",
    "    date_id = row['date_id']\n",
    "    time_id = row['time_id']\n",
    "    row_1 = concat_df.query(f'transformers == \"{trans_id}\" and date_id == \"{date_id}\" and time_id == {max(0, time_id - 1)}')\n",
    "    row_2 = concat_df.query(f'transformers == \"{trans_id}\" and date_id == \"{date_id}\" and time_id == {max(0, time_id - 2)}')\n",
    "    row_3 = concat_df.query(f'transformers == \"{trans_id}\" and date_id == \"{date_id}\" and time_id == {min(47, time_id + 1)}')\n",
    "    \n",
    "    data_0 = row.loc[['L1', 'L2', 'L3', 'L4', 'L5', 'L6']]\n",
    "    data_1 = row_1.iloc[0].loc[['L1', 'L2', 'L3', 'L4', 'L5', 'L6']]\n",
    "    data_2 = row_2.iloc[0].loc[['L1', 'L2', 'L3', 'L4', 'L5', 'L6']]\n",
    "    data_3 = row_3.iloc[0].loc[['L1', 'L2', 'L3', 'L4', 'L5', 'L6']]\n",
    "\n",
    "    data_1.columns = ['L1b', 'L2b', 'L3b', 'L4b', 'L5b', 'L6b']\n",
    "    data_2.columns = ['L1bb', 'L2bb', 'L3bb', 'L4bb', 'L5bb', 'L6bb']\n",
    "    data_3.columns = ['L1a', 'L2a', 'L3a', 'L4a', 'L5a', 'L6a']\n",
    "\n",
    "    return pd.concat([data_0, data_1, data_2, data_3], ignore_index=True)"
   ]
  },
  {
   "cell_type": "code",
   "execution_count": 6,
   "id": "4890bc2e-cd59-423e-9ab0-e9a789981423",
   "metadata": {},
   "outputs": [],
   "source": [
    "if Path('extend_f.csv').exists():\n",
    "    extend_f = pd.read_csv('extend_f.csv')\n",
    "else:\n",
    "    extend_f = concat_df.apply(find_lxb, axis=1)\n",
    "    extend_f.to_csv('extend_f.csv', index_label=False)\n",
    "extend_f.columns = ['L1', 'L2', 'L3', 'L4', 'L5', 'L6', 'L1b', 'L2b', 'L3b', 'L4b', 'L5b', 'L6b', 'L1bb', 'L2bb', 'L3bb', 'L4bb', 'L5bb', 'L6bb', 'L1a', 'L2a', 'L3a', 'L4a', 'L5a', 'L6a']"
   ]
  },
  {
   "cell_type": "code",
   "execution_count": 7,
   "id": "d2e37452-691f-45b7-8198-169b12f41369",
   "metadata": {},
   "outputs": [
    {
     "data": {
      "text/plain": [
       "PCA(n_components=4)"
      ]
     },
     "execution_count": 7,
     "metadata": {},
     "output_type": "execute_result"
    }
   ],
   "source": [
    "# PCA降维\n",
    "pca = PCA(n_components=4)\n",
    "pca.fit(extend_f[['L1b', 'L2b', 'L3b', 'L4b', 'L5b', 'L6b', 'L1bb', 'L2bb', 'L3bb', 'L4bb', 'L5bb', 'L6bb', 'L1a', 'L2a', 'L3a', 'L4a', 'L5a', 'L6a']])"
   ]
  },
  {
   "cell_type": "code",
   "execution_count": 8,
   "id": "27cf7001-0859-4494-bcb5-514bf4f237c1",
   "metadata": {},
   "outputs": [],
   "source": [
    "b_df = pca.transform(extend_f[['L1b', 'L2b', 'L3b', 'L4b', 'L5b', 'L6b', 'L1bb', 'L2bb', 'L3bb', 'L4bb', 'L5bb', 'L6bb', 'L1a', 'L2a', 'L3a', 'L4a', 'L5a', 'L6a']])"
   ]
  },
  {
   "cell_type": "code",
   "execution_count": 9,
   "id": "21efd99b-2caf-44cf-badb-0eaac58a61e8",
   "metadata": {},
   "outputs": [],
   "source": [
    "b_df = pd.DataFrame(b_df)\n",
    "b_df.columns = ['B1', 'B2', 'B3', 'B4']"
   ]
  },
  {
   "cell_type": "code",
   "execution_count": 10,
   "id": "03531b8e-c9c0-4438-b28b-278a85baa958",
   "metadata": {},
   "outputs": [],
   "source": [
    "b_df.reset_index(inplace=True)\n",
    "extend_f.reset_index(inplace=True)\n",
    "concat_df.reset_index(inplace=True)"
   ]
  },
  {
   "cell_type": "code",
   "execution_count": 11,
   "id": "a6c961c2-64ca-4e96-b046-6383b82b1959",
   "metadata": {},
   "outputs": [],
   "source": [
    "# L特征处理\n",
    "extend_f['L1d'] = extend_f['L1b'] - extend_f['L1']\n",
    "extend_f['L2d'] = extend_f['L2b'] - extend_f['L2']\n",
    "extend_f['L3d'] = extend_f['L3b'] - extend_f['L3']\n",
    "extend_f['L4d'] = extend_f['L4b'] - extend_f['L4']\n",
    "extend_f['L5d'] = extend_f['L5b'] - extend_f['L5']\n",
    "extend_f['L6d'] = extend_f['L6b'] - extend_f['L6']\n",
    "\n",
    "extend_f['L1m'] = extend_f['L1b'] + extend_f['L1bb'] + extend_f['L1a']\n",
    "extend_f['L2m'] = extend_f['L2b'] + extend_f['L2bb'] + extend_f['L2a']\n",
    "extend_f['L3m'] = extend_f['L3b'] + extend_f['L3bb'] + extend_f['L3a']\n",
    "extend_f['L4m'] = extend_f['L4b'] + extend_f['L4bb'] + extend_f['L4a']\n",
    "extend_f['L5m'] = extend_f['L5b'] + extend_f['L5bb'] + extend_f['L5a']\n",
    "extend_f['L6m'] = extend_f['L6b'] + extend_f['L6bb'] + extend_f['L6a']\n",
    "\n",
    "b_df = pd.concat([b_df, extend_f[['L1d', 'L2d', 'L3d', 'L4d', 'L5d', 'L6d', 'L1m', 'L2m', 'L3m', 'L4m', 'L5m', 'L6m']]], axis=1)"
   ]
  },
  {
   "cell_type": "code",
   "execution_count": 12,
   "id": "d5ed0c43-27b9-4d3b-b85b-918fb8829e9b",
   "metadata": {},
   "outputs": [],
   "source": [
    "concat_df_extended = pd.concat([concat_df, b_df], axis=1)"
   ]
  },
  {
   "cell_type": "code",
   "execution_count": 13,
   "id": "bc5a000b-d992-47e3-b416-8dfb362a329b",
   "metadata": {},
   "outputs": [],
   "source": [
    "train_length = len(train_df)\n",
    "train_df = concat_df_extended.iloc[:train_length]\n",
    "test_df = concat_df_extended.iloc[train_length:]"
   ]
  },
  {
   "cell_type": "code",
   "execution_count": 14,
   "id": "262edaa5-59c7-4e00-8012-b67d618ab13e",
   "metadata": {},
   "outputs": [],
   "source": [
    "def time_span(t):\n",
    "    return t // 3\n",
    "\n",
    "train_df['hour'] = train_df['time'].apply(lambda x:int(x.split(':')[0]))\n",
    "train_df['time_span'] = train_df['hour'].apply(time_span)\n",
    "\n",
    "test_df['hour'] = test_df['time'].apply(lambda x:int(x.split(':')[0]))\n",
    "test_df['time_span'] = test_df['hour'].apply(time_span)"
   ]
  },
  {
   "cell_type": "code",
   "execution_count": 15,
   "id": "5a1d1cd6-b523-483d-b5a7-ec36059beb5d",
   "metadata": {},
   "outputs": [],
   "source": [
    "train_df_M1 = train_df.query('transformers == \"M1\"')\n",
    "test_df_M1 = test_df.query('transformers == \"M1\"')\n",
    "train_df_M2 = train_df.query('transformers == \"M2\"')\n",
    "test_df_M2 = test_df.query('transformers == \"M2\"')"
   ]
  },
  {
   "cell_type": "code",
   "execution_count": 16,
   "id": "b715096d-9d89-4f87-a6f9-c7812fdce12a",
   "metadata": {},
   "outputs": [],
   "source": [
    "for f in [\n",
    "    ['month'], ['time'], ['hour'], ['time_span'],['season'],\n",
    "    ['is_weekend', 'month'], ['is_weekend', 'time'], ['is_weekend', 'hour'], ['is_weekend', 'time_span'],['is_weekend', 'season']\n",
    "]:\n",
    "    col_name = '.'.join(f) + \"_mean\"\n",
    "    \n",
    "    if len(f) == 1:\n",
    "        feature_name = f[0]\n",
    "    elif len(f) == 2:\n",
    "        feature_name = '_'.join(f)\n",
    "        train_df_M1[feature_name] = train_df_M1[f[0]].astype(str) + '_' + train_df_M1[f[1]].astype(str)\n",
    "        test_df_M1[feature_name] = test_df_M1[f[0]].astype(str) + '_' + test_df_M1[f[1]].astype(str)\n",
    "        train_df_M2[feature_name] = train_df_M2[f[0]].astype(str) + '_' + train_df_M2[f[1]].astype(str)\n",
    "        test_df_M2[feature_name] = test_df_M2[f[0]].astype(str) + '_' + test_df_M2[f[1]].astype(str)\n",
    "\n",
    "    \n",
    "    order_label_M1 = train_df_M1.groupby([feature_name])['y'].mean()\n",
    "    order_label_M2 = train_df_M2.groupby([feature_name])['y'].mean()\n",
    "\n",
    "    train_df_M1[col_name] = train_df_M1[feature_name].map(order_label_M1)\n",
    "    test_df_M1[col_name] = test_df_M1[feature_name].map(order_label_M1)\n",
    "    \n",
    "    train_df_M2[col_name] = train_df_M2[feature_name].map(order_label_M2)\n",
    "    test_df_M2[col_name] = test_df_M2[feature_name].map(order_label_M2)\n",
    "    \n",
    "    if len(f) > 1:\n",
    "        del train_df_M1[feature_name], test_df_M1[feature_name]\n",
    "        del train_df_M2[feature_name], test_df_M2[feature_name]"
   ]
  },
  {
   "cell_type": "code",
   "execution_count": 17,
   "id": "4aa5a538-f0e2-4aaa-a4ad-978a866e48ac",
   "metadata": {},
   "outputs": [],
   "source": [
    "# 连续特征分桶\n",
    "for f in ['L1', 'L2', 'L3', 'L4', 'L5', 'L6', 'B1', 'B2', 'B3', 'B4']:\n",
    "    cut_name = f + '_cut'\n",
    "    col_name = f + '_cut_mean'\n",
    "    M1_all = pd.concat([train_df_M1, test_df_M1])\n",
    "    M2_all = pd.concat([train_df_M2, test_df_M2])\n",
    "    \n",
    "    M1_all[cut_name] = pd.cut(M1_all[f], 6)\n",
    "    M2_all[cut_name] = pd.cut(M2_all[f], 6)\n",
    "    \n",
    "    order_label_M1 = M1_all.iloc[:len(train_df_M1)].groupby(cut_name)['y'].mean()\n",
    "    order_label_M2 = M2_all.iloc[:len(train_df_M2)].groupby(cut_name)['y'].mean()\n",
    "    \n",
    "    train_df_M1[col_name] = M1_all.iloc[:len(train_df_M1)][cut_name].map(order_label_M1).astype('float')\n",
    "    train_df_M2[col_name] = M2_all.iloc[:len(train_df_M2)][cut_name].map(order_label_M2).astype('float')\n",
    "    \n",
    "    test_df_M1[col_name] = M1_all.iloc[len(train_df_M1):][cut_name].map(order_label_M1).astype('float')\n",
    "    test_df_M2[col_name] = M2_all.iloc[len(train_df_M2):][cut_name].map(order_label_M2).astype('float')"
   ]
  },
  {
   "cell_type": "code",
   "execution_count": 18,
   "id": "306fb063-5504-44f0-9de7-e3ab818adbe1",
   "metadata": {},
   "outputs": [],
   "source": [
    "train_df = pd.concat([train_df_M1, train_df_M2])\n",
    "test_df = pd.concat([test_df_M1, test_df_M2])"
   ]
  },
  {
   "cell_type": "code",
   "execution_count": 20,
   "id": "a3f8ec40-5ba5-4794-bb4f-6a40aad0fe54",
   "metadata": {},
   "outputs": [],
   "source": [
    "# 构造额外交叉特征\n",
    "ori_cols = ['L1', 'L2', 'L3', 'L4', 'L5', 'L6']\n",
    "ext_cols = ['B1', 'B2', 'B3', 'B4']\n",
    "\n",
    "for ori_col in ori_cols:\n",
    "    for ext_col in ext_cols:\n",
    "        train_df[f'{ori_col}_{ext_col}'] = train_df[ori_col] / (train_df[ext_col] + 0.01)\n",
    "        test_df[f'{ori_col}_{ext_col}'] = test_df[ori_col] / (test_df[ext_col] + 0.01)\n",
    "for com_cols in itertools.combinations(ori_cols, 2):\n",
    "    train_df[f'{com_cols[0]}_{com_cols[1]}'] = (train_df[f'{com_cols[0]}'] + 1) / (train_df[f'{com_cols[1]}'] + 0.01)\n",
    "    test_df[f'{com_cols[0]}_{com_cols[1]}'] = (test_df[f'{com_cols[0]}'] + 1 ) / (test_df[f'{com_cols[1]}'] + 0.01)\n",
    "    train_df[f'{com_cols[0]}+{com_cols[1]}'] = (train_df[f'{com_cols[0]}'] + 1) + (train_df[f'{com_cols[1]}'])\n",
    "    test_df[f'{com_cols[0]}+{com_cols[1]}'] = (test_df[f'{com_cols[0]}'] + 1 ) + (test_df[f'{com_cols[1]}'])"
   ]
  },
  {
   "cell_type": "code",
   "execution_count": 21,
   "id": "ffcaa173-54a8-46fb-a09c-402b205b6235",
   "metadata": {},
   "outputs": [],
   "source": [
    "cols = [f for f in train_df.columns if f not in ['transformers', 'index', 'id','date_id','y', 'time']]"
   ]
  },
  {
   "cell_type": "code",
   "execution_count": 22,
   "id": "1145f894-5a18-432d-bd8c-8c061d989186",
   "metadata": {},
   "outputs": [],
   "source": [
    "train_df_M1 = train_df.query('transformers == \"M1\"')\n",
    "test_df_M1 = test_df.query('transformers == \"M1\"')\n",
    "train_df_M2 = train_df.query('transformers == \"M2\"')\n",
    "test_df_M2 = test_df.query('transformers == \"M2\"')"
   ]
  },
  {
   "cell_type": "code",
   "execution_count": 23,
   "id": "07c81e90-0d31-49f9-8a0f-edc569a7e9df",
   "metadata": {},
   "outputs": [],
   "source": [
    "ext_points_M1 = [\n",
    "    train_df_M1[train_df_M1.groupby(['time_id'])['y'].transform(max) == train_df_M1['y']].index,\n",
    "    train_df_M1[train_df_M1.groupby(['time_id'])['y'].transform(min) == train_df_M1['y']].index\n",
    "]\n",
    "ext_points_M2 = [\n",
    "    train_df_M2[train_df_M2.groupby(['time_id'])['y'].transform(max) == train_df_M2['y']].index,\n",
    "    train_df_M2[train_df_M2.groupby(['time_id'])['y'].transform(min) == train_df_M2['y']].index\n",
    "]"
   ]
  },
  {
   "cell_type": "code",
   "execution_count": 24,
   "id": "75e9dfab-7881-4d36-a408-39a42817766d",
   "metadata": {},
   "outputs": [
    {
     "name": "stdout",
     "output_type": "stream",
     "text": [
      "[1000]\ttraining's l1: 2.23759\n",
      "[2000]\ttraining's l1: 1.93085\n",
      "[3000]\ttraining's l1: 1.74685\n"
     ]
    }
   ],
   "source": [
    "params = {\n",
    "    'boosting_type': 'gbdt',\n",
    "    'objective': 'regression',\n",
    "    'metric': 'mae',\n",
    "    'num_leaves': 63,\n",
    "    'feature_fraction': 0.8,\n",
    "    'bagging_fraction': 0.8,\n",
    "    'learning_rate': 0.005,\n",
    "    'seed': 22,\n",
    "    'n_jobs':8,\n",
    "    'verbose': -1,\n",
    "    \"lambda_l2\": 0.01\n",
    "}\n",
    "\n",
    "train_matrix = lgb.Dataset(train_df[cols].astype(float), label=train_df['y'].astype(float))\n",
    "\n",
    "model = lgb.train(params, train_matrix, 3000, valid_sets=[train_matrix], verbose_eval=1000)"
   ]
  },
  {
   "cell_type": "code",
   "execution_count": 25,
   "id": "46b31461-0833-4bee-8a88-75f58813ba78",
   "metadata": {},
   "outputs": [],
   "source": [
    "fi = pd.Series(dict(zip(train_df[cols].columns, model.feature_importance()))).sort_values(ascending=False)"
   ]
  },
  {
   "cell_type": "code",
   "execution_count": 26,
   "id": "7a4af66b-59a8-4565-acdb-55d7224c9162",
   "metadata": {},
   "outputs": [],
   "source": [
    "cols = fi[:int(len(fi) * (0.618**(0.618)))].index"
   ]
  },
  {
   "cell_type": "code",
   "execution_count": 27,
   "id": "c5055c59-1c73-4492-9fb1-e0ac92e88739",
   "metadata": {},
   "outputs": [],
   "source": [
    "train_df_M1.reset_index(inplace=True, drop=True)\n",
    "test_df_M1.reset_index(inplace=True, drop=True)\n",
    "train_df_M2.reset_index(inplace=True, drop=True)\n",
    "test_df_M2.reset_index(inplace=True, drop=True)\n",
    "\n",
    "train_M1_x = train_df_M1[cols].astype(float)\n",
    "train_M1_y = train_df_M1['y']\n",
    "test_M1_x = test_df_M1[cols].astype(float)\n",
    "\n",
    "pred_M1_lgb = np.zeros(test_M1_x.shape[0])\n",
    "pred_M1_xgb = np.zeros(test_M1_x.shape[0])\n",
    "pred_M1 = np.zeros(test_M1_x.shape[0])\n",
    "\n",
    "train_M2_x = train_df_M2[cols].astype(float)\n",
    "train_M2_y = train_df_M2['y']\n",
    "test_M2_x = test_df_M2[cols].astype(float)\n",
    "\n",
    "pred_M2_lgb = np.zeros(test_M2_x.shape[0])\n",
    "pred_M2_xgb = np.zeros(test_M2_x.shape[0])\n",
    "\n",
    "pred_M2 = np.zeros(test_M2_x.shape[0])"
   ]
  },
  {
   "cell_type": "code",
   "execution_count": 28,
   "id": "e7b725f4-6265-47cc-8925-f3d275768c1e",
   "metadata": {},
   "outputs": [],
   "source": [
    "oof_lgb_M1 = np.zeros(len(train_df_M1))\n",
    "oof_xgb_M1 = np.zeros(len(train_df_M1))\n",
    "oof_lgb_M2 = np.zeros(len(train_df_M2))\n",
    "oof_xgb_M2 = np.zeros(len(train_df_M2))"
   ]
  },
  {
   "cell_type": "code",
   "execution_count": 29,
   "id": "e6c6bbcd-6883-48a5-b310-15907a9ea89d",
   "metadata": {},
   "outputs": [
    {
     "name": "stdout",
     "output_type": "stream",
     "text": [
      "Training until validation scores don't improve for 500 rounds\n",
      "[1000]\ttraining's l1: 1.66803\tvalid_1's l1: 2.94246\n",
      "[2000]\ttraining's l1: 1.34317\tvalid_1's l1: 2.90651\n",
      "[3000]\ttraining's l1: 1.12342\tvalid_1's l1: 2.89191\n",
      "Early stopping, best iteration is:\n",
      "[3488]\ttraining's l1: 1.03736\tvalid_1's l1: 2.8884\n",
      "Training until validation scores don't improve for 500 rounds\n",
      "[1000]\ttraining's l1: 1.74056\tvalid_1's l1: 2.6331\n",
      "[2000]\ttraining's l1: 1.41013\tvalid_1's l1: 2.60918\n",
      "[3000]\ttraining's l1: 1.17954\tvalid_1's l1: 2.60341\n",
      "Early stopping, best iteration is:\n",
      "[3305]\ttraining's l1: 1.12282\tvalid_1's l1: 2.60222\n",
      "Training until validation scores don't improve for 500 rounds\n",
      "[1000]\ttraining's l1: 1.64142\tvalid_1's l1: 3.08373\n",
      "[2000]\ttraining's l1: 1.33118\tvalid_1's l1: 3.06881\n",
      "Early stopping, best iteration is:\n",
      "[1855]\ttraining's l1: 1.36731\tvalid_1's l1: 3.06672\n",
      "Training until validation scores don't improve for 500 rounds\n",
      "[1000]\ttraining's l1: 1.69242\tvalid_1's l1: 2.74136\n",
      "Early stopping, best iteration is:\n",
      "[801]\ttraining's l1: 1.81837\tvalid_1's l1: 2.73646\n",
      "Training until validation scores don't improve for 500 rounds\n",
      "[1000]\ttraining's l1: 1.67474\tvalid_1's l1: 3.13868\n",
      "[2000]\ttraining's l1: 1.35083\tvalid_1's l1: 3.1123\n",
      "[3000]\ttraining's l1: 1.1284\tvalid_1's l1: 3.10765\n",
      "[4000]\ttraining's l1: 0.957805\tvalid_1's l1: 3.10446\n",
      "Early stopping, best iteration is:\n",
      "[3688]\ttraining's l1: 1.00778\tvalid_1's l1: 3.10384\n",
      "2.9058241667804547\n"
     ]
    }
   ],
   "source": [
    "kf = KFold(n_splits=5, shuffle=True, random_state=22)\n",
    "\n",
    "for i, (train_index_group, valid_index_group) in enumerate(kf.split(np.zeros(len(train_df_M1) // 48))):\n",
    "\n",
    "    train_index_fold = np.zeros(len(train_index_group) * 48, dtype=np.int)\n",
    "    valid_index_fold = np.zeros(len(valid_index_group) * 48, dtype=np.int)\n",
    "\n",
    "    for a, idx in enumerate(train_index_group):\n",
    "        for b in range(48):\n",
    "            train_index_fold[a * 48 + b] = int(idx * 48 + b)\n",
    "\n",
    "    for a, idx in enumerate(valid_index_group):\n",
    "        for b in range(48):\n",
    "            valid_index_fold[a * 48 + b] = int(idx * 48 + b)\n",
    "\n",
    "# for i, (train_index, valid_index) in enumerate(kf.split(train_x, train_y)):\n",
    "    \n",
    "    train_index = [i for i in train_index_fold if i not in np.concatenate(ext_points_M1)]\n",
    "    # valid_index = valid_index_fold\n",
    "    valid_index = [i for i in valid_index_fold if i not in np.concatenate(ext_points_M1)]\n",
    "    \n",
    "    trn_x, trn_y, val_x, val_y = train_M1_x.iloc[train_index], train_M1_y[train_index], train_M1_x.iloc[valid_index], train_M1_y[valid_index]\n",
    "\n",
    "    train_matrix = lgb.Dataset(trn_x, label=trn_y)\n",
    "    valid_matrix = lgb.Dataset(val_x, label=val_y)\n",
    "\n",
    "    params = {\n",
    "        'boosting_type': 'gbdt',\n",
    "        'objective': 'regression',\n",
    "        'metric': 'mae',\n",
    "        'num_leaves': 63,\n",
    "        'feature_fraction': 0.8,\n",
    "        'bagging_fraction': 0.8,\n",
    "        'learning_rate': 0.005,\n",
    "        'seed': 22,\n",
    "        'n_jobs':8,\n",
    "        'verbose': -1,\n",
    "        \"lambda_l2\": 0.01\n",
    "    }\n",
    "\n",
    "    model = lgb.train(params, train_matrix, 10000, valid_sets=[train_matrix, valid_matrix], \n",
    "                      verbose_eval=1000, early_stopping_rounds=500)\n",
    "    \n",
    "    oof_lgb_M1[valid_index_fold] = model.predict(train_M1_x.iloc[valid_index_fold], num_iteration=model.best_iteration)\n",
    "    test_pred = model.predict(test_M1_x, num_iteration=model.best_iteration)\n",
    "\n",
    "    pred_M1_lgb += ( test_pred / kf.n_splits )\n",
    "print(mean_absolute_error(oof_lgb_M1, train_M1_y))"
   ]
  },
  {
   "cell_type": "code",
   "execution_count": 30,
   "id": "22df1e32-f6b9-48eb-9590-fa5acb671ed8",
   "metadata": {},
   "outputs": [
    {
     "name": "stdout",
     "output_type": "stream",
     "text": [
      "Training until validation scores don't improve for 500 rounds\n",
      "[1000]\ttraining's l1: 2.1359\tvalid_1's l1: 3.6109\n",
      "[2000]\ttraining's l1: 1.59855\tvalid_1's l1: 3.48646\n",
      "Early stopping, best iteration is:\n",
      "[2313]\ttraining's l1: 1.51319\tvalid_1's l1: 3.48368\n",
      "Training until validation scores don't improve for 500 rounds\n",
      "[1000]\ttraining's l1: 2.177\tvalid_1's l1: 3.38222\n",
      "[2000]\ttraining's l1: 1.61989\tvalid_1's l1: 3.30883\n",
      "[3000]\ttraining's l1: 1.39267\tvalid_1's l1: 3.30613\n",
      "Early stopping, best iteration is:\n",
      "[2558]\ttraining's l1: 1.48174\tvalid_1's l1: 3.30481\n",
      "Training until validation scores don't improve for 500 rounds\n",
      "[1000]\ttraining's l1: 2.19358\tvalid_1's l1: 3.15321\n",
      "[2000]\ttraining's l1: 1.64337\tvalid_1's l1: 2.98328\n",
      "[3000]\ttraining's l1: 1.41965\tvalid_1's l1: 2.97906\n",
      "Early stopping, best iteration is:\n",
      "[2748]\ttraining's l1: 1.46779\tvalid_1's l1: 2.97853\n",
      "Training until validation scores don't improve for 500 rounds\n",
      "[1000]\ttraining's l1: 2.19\tvalid_1's l1: 3.26534\n",
      "[2000]\ttraining's l1: 1.62911\tvalid_1's l1: 3.19717\n",
      "Early stopping, best iteration is:\n",
      "[2497]\ttraining's l1: 1.49959\tvalid_1's l1: 3.19486\n",
      "Training until validation scores don't improve for 500 rounds\n",
      "[1000]\ttraining's l1: 2.21246\tvalid_1's l1: 3.01859\n",
      "[2000]\ttraining's l1: 1.65486\tvalid_1's l1: 2.89558\n",
      "Early stopping, best iteration is:\n",
      "[2366]\ttraining's l1: 1.55636\tvalid_1's l1: 2.89318\n",
      "3.1718126771562947\n"
     ]
    }
   ],
   "source": [
    "kf = KFold(n_splits=5, shuffle=True, random_state=2121)\n",
    "for i, (train_index_group, valid_index_group) in enumerate(kf.split(np.zeros(len(train_df_M2) // 48))):\n",
    "\n",
    "    train_index_fold = np.zeros(len(train_index_group) * 48, dtype=np.int)\n",
    "    valid_index_fold = np.zeros(len(valid_index_group) * 48, dtype=np.int)\n",
    "\n",
    "    for a, idx in enumerate(train_index_group):\n",
    "        for b in range(48):\n",
    "            train_index_fold[a * 48 + b] = int(idx * 48 + b)\n",
    "\n",
    "    for a, idx in enumerate(valid_index_group):\n",
    "        for b in range(48):\n",
    "            valid_index_fold[a * 48 + b] = int(idx * 48 + b)\n",
    "\n",
    "# for i, (train_index, valid_index) in enumerate(kf.split(train_x, train_y)):\n",
    "    \n",
    "    train_index = [i for i in train_index_fold if i not in np.concatenate(ext_points_M2)]\n",
    "    valid_index = [i for i in valid_index_fold if i not in np.concatenate(ext_points_M2)]\n",
    "    \n",
    "    trn_x, trn_y, val_x, val_y = train_M2_x.iloc[train_index], train_M2_y[train_index], train_M2_x.iloc[valid_index], train_M2_y[valid_index]\n",
    "\n",
    "    train_matrix = lgb.Dataset(trn_x, label=trn_y)\n",
    "    valid_matrix = lgb.Dataset(val_x, label=val_y)\n",
    "\n",
    "    params = {\n",
    "        'boosting_type': 'gbdt',\n",
    "        'objective': 'regression',\n",
    "        'metric': 'mae',\n",
    "        'num_leaves': 63,\n",
    "        'feature_fraction': 0.5,\n",
    "        'bagging_fraction': 0.8,\n",
    "        'learning_rate': 0.003,\n",
    "        'seed': 42,\n",
    "        'n_jobs':8,\n",
    "        'verbose': -1,\n",
    "        # \"lambda_l2\": 0.01\n",
    "    }\n",
    "\n",
    "    model = lgb.train(params, train_matrix, 10000, valid_sets=[train_matrix, valid_matrix], \n",
    "                      verbose_eval=1000, early_stopping_rounds=500)\n",
    "    \n",
    "    oof_lgb_M2[valid_index_fold] = model.predict(train_M2_x.iloc[valid_index_fold], num_iteration=model.best_iteration)\n",
    "    test_pred = model.predict(test_M2_x, num_iteration=model.best_iteration)\n",
    "\n",
    "    pred_M2_lgb += test_pred / kf.n_splits\n",
    "print(mean_absolute_error(oof_lgb_M2, train_M2_y))"
   ]
  },
  {
   "cell_type": "code",
   "execution_count": 32,
   "id": "e98ef1fc-5d41-4a18-bd37-65c7921beff3",
   "metadata": {},
   "outputs": [],
   "source": [
    "# \n",
    "pred_M1 = pred_M1_lgb\n",
    "pred_M2 = pred_M2_lgb\n",
    "\n",
    "test_df_M1['y'] = pred_M1\n",
    "test_df_M2['y'] = pred_M2\n",
    "\n",
    "test_concat = pd.concat([test_df_M1, test_df_M2])\n",
    "\n",
    "submit_A = test_concat.iloc[:len(testA_df)]\n",
    "submit_B = test_concat.iloc[len(testA_df):]"
   ]
  },
  {
   "cell_type": "markdown",
   "id": "6bd9c405-0bc1-415d-a28f-73825106d176",
   "metadata": {},
   "source": [
    "## 最后将两种方案的结果合并后， A榜score:278 B榜score:303"
   ]
  },
  {
   "cell_type": "markdown",
   "id": "f173c98d-e8e9-4432-a815-3b667c213f53",
   "metadata": {},
   "source": [
    "## 3. 疑问点"
   ]
  },
  {
   "cell_type": "markdown",
   "id": "18a0bc6c-86f3-4a97-89fe-b7518e60362e",
   "metadata": {},
   "source": [
    "### 1. L4-L6特征中存在0.0001-0.0005等值，此类值是否是0？还是某个特殊值\n",
    "### 2. EDA可以看出y和时间因素存在强关联性，但是此次比赛并没有充分利用时间特征，还请大家分享自己的idea"
   ]
  },
  {
   "cell_type": "code",
   "execution_count": null,
   "id": "a56ba0d1-7654-4567-91fd-f8c1c0ad58a0",
   "metadata": {},
   "outputs": [],
   "source": []
  }
 ],
 "metadata": {
  "kernelspec": {
   "display_name": "Python 3",
   "language": "python",
   "name": "python3"
  },
  "language_info": {
   "codemirror_mode": {
    "name": "ipython",
    "version": 3
   },
   "file_extension": ".py",
   "mimetype": "text/x-python",
   "name": "python",
   "nbconvert_exporter": "python",
   "pygments_lexer": "ipython3",
   "version": "3.8.8"
  }
 },
 "nbformat": 4,
 "nbformat_minor": 5
}
